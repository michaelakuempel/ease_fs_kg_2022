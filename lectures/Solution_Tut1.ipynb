{
 "cells": [
  {
   "cell_type": "markdown",
   "metadata": {},
   "source": [
    "#### Solution to Exercise 1:"
   ]
  },
  {
   "cell_type": "code",
   "execution_count": 5,
   "metadata": {},
   "outputs": [
    {
     "ename": "NameError",
     "evalue": "name 'Namespace' is not defined",
     "output_type": "error",
     "traceback": [
      "\u001b[1;31m---------------------------------------------------------------------------\u001b[0m",
      "\u001b[1;31mNameError\u001b[0m                                 Traceback (most recent call last)",
      "\u001b[1;32m<ipython-input-5-26de4e4daa40>\u001b[0m in \u001b[0;36m<module>\u001b[1;34m()\u001b[0m\n\u001b[0;32m      8\u001b[0m \u001b[1;31m# Create prefix citykg with given namespace\u001b[0m\u001b[1;33m\u001b[0m\u001b[1;33m\u001b[0m\u001b[0m\n\u001b[0;32m      9\u001b[0m \u001b[1;31m# You can define your own namespaces by passing any IRI and bind to an abbrevation\u001b[0m\u001b[1;33m\u001b[0m\u001b[1;33m\u001b[0m\u001b[0m\n\u001b[1;32m---> 10\u001b[1;33m \u001b[0mcitykg\u001b[0m \u001b[1;33m=\u001b[0m \u001b[0mNamespace\u001b[0m\u001b[1;33m(\u001b[0m\u001b[1;34m\"http://example.org/citykg#\"\u001b[0m\u001b[1;33m)\u001b[0m\u001b[1;33m\u001b[0m\u001b[0m\n\u001b[0m\u001b[0;32m     11\u001b[0m \u001b[0mg\u001b[0m\u001b[1;33m.\u001b[0m\u001b[0mbind\u001b[0m\u001b[1;33m(\u001b[0m\u001b[1;34m\"fskg\"\u001b[0m\u001b[1;33m,\u001b[0m \u001b[0mcitykg\u001b[0m\u001b[1;33m)\u001b[0m\u001b[1;33m\u001b[0m\u001b[0m\n\u001b[0;32m     12\u001b[0m \u001b[0mg\u001b[0m\u001b[1;33m.\u001b[0m\u001b[0mbind\u001b[0m\u001b[1;33m(\u001b[0m\u001b[1;34m\"owl\"\u001b[0m\u001b[1;33m,\u001b[0m \u001b[0mOWL\u001b[0m\u001b[1;33m)\u001b[0m\u001b[1;33m\u001b[0m\u001b[0m\n",
      "\u001b[1;31mNameError\u001b[0m: name 'Namespace' is not defined"
     ]
    }
   ],
   "source": [
    "from rdflib import Graph, Literal, URIRef\n",
    "# rdflib knows about quite a few popular namespaces, like W3C ontologies, schema.org etc.\n",
    "from rdflib.namespace import OWL, RDF, RDFS, XSD\n",
    "\n",
    "# Create empty Graph\n",
    "g = Graph()\n",
    "\n",
    "# Create prefix citykg with given namespace\n",
    "# You can define your own namespaces by passing any IRI and bind to an abbrevation\n",
    "citykg = Namespace(\"http://example.org/citykg#\")\n",
    "g.bind(\"fskg\", citykg)\n",
    "g.bind(\"owl\", OWL)\n",
    "\n",
    "# Create an RDF URI node to use as the subject for multiple triples\n",
    "city = URIRef(\"http://example.org/citykg#City\")\n",
    "bremen = URIRef(\"http://example.org/citykg#Bremen\")\n",
    "hamburg = URIRef(\"http://example.org/citykg#Hamburg\")\n",
    "population = URIRef(\"http://example.org/citykg#population\")\n",
    "\n",
    "# Add city as class, add city \"Bremen\" and \"Hamburg\" as instance of city.\n",
    "g.add((city, RDFS.subClassOf, OWL.Thing))\n",
    "g.add((bremen, RDF.type, city))\n",
    "g.add((hamburg, RDF.type, city))\n",
    "\n",
    "#Define population property with domain and range\n",
    "g.add((population, RDF.type, RDF.Property))\n",
    "\n",
    "#Set population property for \"Bremen\" and \"Hamburg\"\n",
    "g.add((bremen, population, Literal(676000)))\n",
    "g.add((hamburg, population, Literal(1853900)))\n",
    "\n",
    "#Print in n3 triple format\n",
    "print(g.serialize(format='n3'))"
   ]
  },
  {
   "cell_type": "code",
   "execution_count": null,
   "metadata": {},
   "outputs": [],
   "source": []
  }
 ],
 "metadata": {
  "kernelspec": {
   "display_name": "Python 3",
   "language": "python",
   "name": "python3"
  },
  "language_info": {
   "codemirror_mode": {
    "name": "ipython",
    "version": 3
   },
   "file_extension": ".py",
   "mimetype": "text/x-python",
   "name": "python",
   "nbconvert_exporter": "python",
   "pygments_lexer": "ipython3",
   "version": "3.6.5"
  }
 },
 "nbformat": 4,
 "nbformat_minor": 2
}
