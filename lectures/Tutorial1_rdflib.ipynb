{
 "cells": [
  {
   "cell_type": "markdown",
   "metadata": {},
   "source": [
    "## Getting started with triples\n",
    "\n",
    "#### Let us create a simple triple example using rdflib: We create a City graph with Bremen as an instance!\n",
    "- We first import the rdflib library and important packages"
   ]
  },
  {
   "cell_type": "code",
   "execution_count": null,
   "metadata": {},
   "outputs": [],
   "source": [
    "# import rdflib\n",
    "from rdflib import Graph, Literal, URIRef\n",
    "# rdflib knows about quite a few popular namespaces, like W3C ontologies, schema.org etc.\n",
    "from rdflib.namespace import OWL, RDF, RDFS, XSD"
   ]
  },
  {
   "cell_type": "markdown",
   "metadata": {},
   "source": [
    "- then we create a graph and define its namespace as well as shortcuts"
   ]
  },
  {
   "cell_type": "code",
   "execution_count": null,
   "metadata": {},
   "outputs": [],
   "source": [
    "# Create empty Graph\n",
    "g = Graph()\n",
    "\n",
    "# Create prefix fs_kg with given namespace\n",
    "# You can define your own namespaces by passing any IRI and bind to an abbrevation\n",
    "citykg = Namespace(\"http://example.org/citykg#\")\n",
    "g.bind(\"city\", citykg)\n",
    "g.bind(\"owl\", OWL)"
   ]
  },
  {
   "cell_type": "markdown",
   "metadata": {},
   "source": [
    "- next we create the class \"City\" and its instance \"Bremen\" and shortcuts for later use"
   ]
  },
  {
   "cell_type": "code",
   "execution_count": null,
   "metadata": {},
   "outputs": [],
   "source": [
    "# Create an RDF URI node to use as the subject for multiple triples\n",
    "city = URIRef(\"http://example.org/citykg#City\")\n",
    "bremen = URIRef(\"http://example.org/citykg#Bremen\")"
   ]
  },
  {
   "cell_type": "markdown",
   "metadata": {},
   "source": [
    "- the class \"City\" and the individual \"Bremen\" need to be defined in the graph (as in: What are parent classes? Where do they belong to?):\n",
    " - Create a class city as `RDFS:subClassOf` the main class: `OWL.Thing`\n",
    "  - Create a triple such that Bremen is of type City using `RDF.type`\n",
    "      - `RDF.type` is the equivalent to http://www.w3.org/1999/02/22-rdf-syntax-ns#type and imported with the namespaces"
   ]
  },
  {
   "cell_type": "code",
   "execution_count": null,
   "metadata": {},
   "outputs": [],
   "source": [
    "# Add city as class (there always is a Thing class that can be parent), add city \"Bremen\" as instance of city.\n",
    "g.add((city, RDFS.subClassOf, OWL.Thing))\n",
    "g.add((bremen, RDF.type, city))"
   ]
  },
  {
   "cell_type": "markdown",
   "metadata": {},
   "source": [
    "- Print the result"
   ]
  },
  {
   "cell_type": "code",
   "execution_count": null,
   "metadata": {},
   "outputs": [],
   "source": [
    "#Print graph in n3 triple format\n",
    "print(g.serialize(format='n3'))"
   ]
  },
  {
   "cell_type": "markdown",
   "metadata": {},
   "source": [
    "#### Here is the whole code example:"
   ]
  },
  {
   "cell_type": "code",
   "execution_count": 16,
   "metadata": {
    "scrolled": true
   },
   "outputs": [
    {
     "name": "stdout",
     "output_type": "stream",
     "text": [
      "b'@prefix city: <http://example.org/citykg#> .\\n@prefix owl: <http://www.w3.org/2002/07/owl#> .\\n@prefix rdfs: <http://www.w3.org/2000/01/rdf-schema#> .\\n\\ncity:Bremen a city:City .\\n\\ncity:City rdfs:subClassOf owl:Thing .\\n\\n'\n"
     ]
    }
   ],
   "source": [
    "# import rdflib\n",
    "from rdflib import Graph, Literal, URIRef\n",
    "# rdflib knows about quite a few popular namespaces, like W3C ontologies, schema.org etc.\n",
    "from rdflib.namespace import OWL, RDF, RDFS, XSD\n",
    "\n",
    "\n",
    "# Create empty Graph\n",
    "g = Graph()\n",
    "\n",
    "# Create prefix citykg with given namespace\n",
    "# You can define your own namespaces by passing any IRI and bind to an abbrevation\n",
    "citykg = Namespace(\"http://example.org/citykg#\")\n",
    "g.bind(\"city\", citykg)\n",
    "g.bind(\"owl\", OWL)\n",
    "\n",
    "# Create an RDF URI node to use as the subject for multiple triples\n",
    "city = URIRef(\"http://example.org/citykg#City\")\n",
    "bremen = URIRef(\"http://example.org/citykg#Bremen\")\n",
    "\n",
    "# Add city as class (there always is a Thing class that can be parent), add city \"Bremen\" as instance of city.\n",
    "g.add((city, RDFS.subClassOf, OWL.Thing))\n",
    "g.add((bremen, RDF.type, city))\n",
    "\n",
    "#Print graph in n3 triple format\n",
    "print(g.serialize(format='n3'))"
   ]
  },
  {
   "cell_type": "markdown",
   "metadata": {},
   "source": [
    "### Exercise 1:\n",
    "\n",
    "1. Add Hamburg as a city to the previously created graph.\n",
    "2. Add a population property for both cities.\n",
    "    - Bremen has a population of 676000\n",
    "    - Hamburg has a population of 1853900\n",
    "    - hint: a population is a property of type `rdf:Property` `(RDF.type, RDF.property)`\n",
    "    \n",
    "The solution to this exercise can be found in a seperate notebook (Solution_Tut1)"
   ]
  },
  {
   "cell_type": "markdown",
   "metadata": {},
   "source": [
    "### Querying the graph using SPARQL\n",
    "\n",
    "SPARQL can be used to access information contained in a graph.\n",
    "\n",
    "Let us first query for all cities in the previously created graph:"
   ]
  },
  {
   "cell_type": "code",
   "execution_count": 21,
   "metadata": {},
   "outputs": [
    {
     "name": "stdout",
     "output_type": "stream",
     "text": [
      "Query result for variables ?city http://example.org/citykg#Hamburg and ?population 1853900\n",
      "Query result for variables ?city http://example.org/citykg#Bremen and ?population 676000\n"
     ]
    }
   ],
   "source": [
    "query = \"\"\"\n",
    "SELECT DISTINCT ?city ?population\n",
    "WHERE {\n",
    " ?city rdf:type citykg:City.\n",
    " ?city citykg:population ?population\n",
    "}\"\"\"\n",
    "for row in g.query(query, initNs={'citykg': citykg}):\n",
    "    print(f\"Query result for variables ?city {row.city} and ?population {row.population}\")"
   ]
  },
  {
   "cell_type": "markdown",
   "metadata": {},
   "source": [
    "#### Now let us try to access some product info from the knowledge graph"
   ]
  },
  {
   "cell_type": "code",
   "execution_count": 33,
   "metadata": {},
   "outputs": [],
   "source": [
    "query = \"\"\"\n",
    "    SELECT ?s\n",
    "    WHERE {\n",
    "      SERVICE <https://api.krr.triply.cc/datasets/mkumpel/FoodToNonFoodKG/services/FoodToNonFood/sparql> {\n",
    "        ?s a owl:Thing.\n",
    "      }\n",
    "    }\n",
    "    LIMIT 10\n",
    "    \"\"\"\n",
    "for row in g.query(query):\n",
    "    print(row.s)"
   ]
  },
  {
   "cell_type": "code",
   "execution_count": null,
   "metadata": {},
   "outputs": [],
   "source": []
  }
 ],
 "metadata": {
  "kernelspec": {
   "display_name": "Python 3",
   "language": "python",
   "name": "python3"
  },
  "language_info": {
   "codemirror_mode": {
    "name": "ipython",
    "version": 3
   },
   "file_extension": ".py",
   "mimetype": "text/x-python",
   "name": "python",
   "nbconvert_exporter": "python",
   "pygments_lexer": "ipython3",
   "version": "3.6.5"
  }
 },
 "nbformat": 4,
 "nbformat_minor": 4
}
