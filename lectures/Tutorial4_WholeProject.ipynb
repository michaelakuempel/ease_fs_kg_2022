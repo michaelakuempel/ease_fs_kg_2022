{
 "cells": [
  {
   "cell_type": "markdown",
   "id": "f96fe9fd-066f-4e89-a38b-bb4df39872fc",
   "metadata": {},
   "source": [
    "## Finally: A whole Knowledge Acquisition exercise\n",
    "\n",
    "Think of the REMARO project example. Imagine having to repair a pipeline to an offshore terminal with your robots. You probably want to have a weather ontology that you can query for the best/ worst weather conditions to plan your work. This is exactly what we will do in this exercise!\n",
    "\n",
    "What you will do here:\n",
    "1. Create a basic weather data ontology\n",
    "2. Choose a website with REST API to query current weather data for an offshore terminal\n",
    "3. Write this data into the created ontology\n",
    "4. Query the ontology for specific weather conditions to choose best times for your work\n",
    "\n",
    "Note: If you start the Tutorials here, you need to install rdflib and owlready (`!pip install rdflib`, `!pip install owlready2`)."
   ]
  },
  {
   "cell_type": "markdown",
   "id": "61178e44-1c48-43b4-9887-f07416912b34",
   "metadata": {},
   "source": [
    "#### 1. Create a basic weather ontology"
   ]
  },
  {
   "cell_type": "code",
   "execution_count": 6,
   "id": "1237a253-38ea-4041-8896-dd8bb6560c9d",
   "metadata": {},
   "outputs": [
    {
     "data": {
      "text/plain": [
       "[weather-data.Weather]"
      ]
     },
     "execution_count": 6,
     "metadata": {},
     "output_type": "execute_result"
    }
   ],
   "source": [
    "from owlready2 import *\n",
    "\n",
    "# Create your own weather ontology\n",
    "onto = get_ontology(\"http://purl.org/weather-data\")\n",
    "\n",
    "# Create the main classes, we will create a weather class\n",
    "# let us define a wind_speed property for a weather as interesting property\n",
    "with onto:\n",
    "    class Weather(Thing):\n",
    "        label = \"weather at date time\" \n",
    "    class wind_speed(DataProperty, Weather >> float, FunctionalProperty):\n",
    "        label = \"wind speed\"   \n",
    "        \n",
    "list(Thing.subclasses())"
   ]
  },
  {
   "cell_type": "markdown",
   "id": "c62369c1-d0de-4add-b602-923960ae5750",
   "metadata": {},
   "source": [
    "#### 2. Choose a website with REST API to query current weather data for an offshore terminal\n",
    "\n",
    "There are many websites with weather data and REST API, for example:\n",
    "-  https://developer.yr.no/doc/ (we will use this site in this exercise)\n",
    "-  https://www.oceandatalab.com/home\n",
    "-  https://earthexplorer.usgs.gov\n",
    "\n",
    "For this example, let us use the \"Mittelplatte\" oil field, which has the coordinates 54.0259°N 8.731°E \n",
    "(for further info see https://de.wikipedia.org/wiki/Mittelplate_(%C3%96lfeld))\n",
    "\n",
    "The following code accesses the REST API and writes the results into a json file:"
   ]
  },
  {
   "cell_type": "code",
   "execution_count": 4,
   "id": "057712af-199a-476e-84a9-4b22d387178f",
   "metadata": {},
   "outputs": [],
   "source": [
    "import requests\n",
    "import json\n",
    "\n",
    "api_url = 'https://api.met.no/weatherapi/locationforecast/2.0/compact'\n",
    "parameters = {'lat': 54,'lon': 8.73}\n",
    "headers =  {\n",
    "    'User-Agent': 'WeatherKG'\n",
    "}\n",
    "response = requests.get(api_url, headers = headers, params=parameters, timeout = 3)\n",
    "# Assert that there is a response from the source\n",
    "assert response.status_code == 200"
   ]
  },
  {
   "cell_type": "code",
   "execution_count": 5,
   "id": "8b3ad3c0-c6e8-4ed9-9760-d1e3c1cf8586",
   "metadata": {},
   "outputs": [],
   "source": [
    "with open('mittelplatte.json', 'w') as outfile:\n",
    "    json.dump(response.json(),  outfile, indent=4)"
   ]
  },
  {
   "cell_type": "markdown",
   "id": "d47da5a9-af3d-42c3-857c-ce7df4cd019b",
   "metadata": {},
   "source": [
    "You should now have created a new file named \"mittelplatte\" on the left. Check out the created .json file!\n",
    "There is a time series of data with a wind speed property, amongst others. For now, we will only focus on this property."
   ]
  },
  {
   "cell_type": "code",
   "execution_count": null,
   "id": "4cd3ec8f-cc10-4660-ac32-40a1eb7931eb",
   "metadata": {},
   "outputs": [],
   "source": []
  }
 ],
 "metadata": {
  "kernelspec": {
   "display_name": "Python 3 (ipykernel)",
   "language": "python",
   "name": "python3"
  },
  "language_info": {
   "codemirror_mode": {
    "name": "ipython",
    "version": 3
   },
   "file_extension": ".py",
   "mimetype": "text/x-python",
   "name": "python",
   "nbconvert_exporter": "python",
   "pygments_lexer": "ipython3",
   "version": "3.10.5"
  }
 },
 "nbformat": 4,
 "nbformat_minor": 5
}
