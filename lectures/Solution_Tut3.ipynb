{
 "cells": [
  {
   "cell_type": "code",
   "execution_count": null,
   "id": "e5ba3d03-9e0a-4d62-88bb-aae9efdcedcf",
   "metadata": {},
   "outputs": [],
   "source": [
    "%endpoint https://api.krr.triply.cc/datasets/mkumpel/FoodToNonFoodKG/services/FoodToNonFood/sparql\n",
    "%format default\n",
    "%display table \n",
    "%show 10\n",
    "\n"
   ]
  }
 ],
 "metadata": {
  "kernelspec": {
   "display_name": "SPARQL",
   "language": "sparql",
   "name": "sparql"
  },
  "language_info": {
   "codemirror_mode": {
    "name": "sparql"
   },
   "mimetype": "application/sparql-query",
   "name": "sparql",
   "pygments_lexer": "sparql-nb"
  }
 },
 "nbformat": 4,
 "nbformat_minor": 5
}
